{
 "cells": [
  {
   "cell_type": "code",
   "execution_count": 1,
   "metadata": {},
   "outputs": [],
   "source": [
    "# Import the libraries\n",
    "import numpy as np\n",
    "import matplotlib.pyplot as plt\n",
    "import seaborn as sns\n",
    "import cv2\n",
    "from PIL import Image\n",
    "import tensorflow as tf\n",
    "tf.random.set_seed(3)\n",
    "from tensorflow import keras\n",
    "from keras.datasets import mnist\n",
    "from tensorflow._api.v2.math import confusion_matrix"
   ]
  },
  {
   "cell_type": "code",
   "execution_count": null,
   "metadata": {},
   "outputs": [],
   "source": [
    "# Loading the MNIST image data from keras.datasets\n",
    "(X_train, Y_train), (X_test, Y_test) = mnist.load_data()"
   ]
  },
  {
   "cell_type": "code",
   "execution_count": null,
   "metadata": {},
   "outputs": [],
   "source": [
    "type(X_train)"
   ]
  },
  {
   "cell_type": "code",
   "execution_count": null,
   "metadata": {},
   "outputs": [],
   "source": [
    "# Shape of the numpy arrays. (A,B,C) -  where A is number of grayscale images each of the size B*C pixels\n",
    "print(X_train.shape, Y_train.shape, X_test.shape, Y_test.shape)"
   ]
  },
  {
   "cell_type": "code",
   "execution_count": null,
   "metadata": {},
   "outputs": [],
   "source": [
    "# Training data = 60000 images, Test data = 10000 images\n",
    "# Image dimension -> 28*28\n",
    "# Grayscale iamge -> 1 channel"
   ]
  },
  {
   "cell_type": "code",
   "execution_count": null,
   "metadata": {},
   "outputs": [],
   "source": [
    "# Printing 10th indexed image (11th image because the counting in Python starts from 0)\n",
    "print(X_train[10]) "
   ]
  },
  {
   "cell_type": "code",
   "execution_count": null,
   "metadata": {},
   "outputs": [],
   "source": [
    "# Checking the shape of the 10th indexed image\n",
    "print(X_train[10].shape)"
   ]
  },
  {
   "cell_type": "code",
   "execution_count": null,
   "metadata": {},
   "outputs": [],
   "source": [
    "# Displaying the image\n",
    "plt.imshow(X_train[50])\n",
    "plt.show()\n",
    "\n",
    "# Printing the corresponding labels\n",
    "print(Y_train[50])"
   ]
  },
  {
   "cell_type": "code",
   "execution_count": null,
   "metadata": {},
   "outputs": [],
   "source": [
    "# Image labels\n",
    "print(Y_train.shape, Y_test.shape)"
   ]
  },
  {
   "cell_type": "code",
   "execution_count": null,
   "metadata": {},
   "outputs": [],
   "source": [
    "# Unique values in the dataset\n",
    "print(np.unique(Y_train))\n",
    "\n",
    "print(np.unique(Y_test))"
   ]
  },
  {
   "cell_type": "code",
   "execution_count": null,
   "metadata": {},
   "outputs": [],
   "source": [
    "# Using labels as such or apply One Hot Encoder\n",
    "# With One Hot Encoder, for the values [0,1,2,3,4,5,6,7,8,9]\n",
    "# If the value is 0, then it will display [1,0,0,0,0,0,0,0,0,0]\n",
    "# If the value is 1, then it will display [0,1,0,0,0,0,0,0,0,0]\n",
    "# If the value is 8, then it will display [0,0,0,0,0,0,0,0,1,0]\n",
    "\n",
    "# All the images have same dimensions in this datasets. If not, resize all the images to a common dimension"
   ]
  },
  {
   "cell_type": "code",
   "execution_count": null,
   "metadata": {},
   "outputs": [],
   "source": [
    "# Scaling the values (from 0 to 255) -> (from 0 to 1)\n",
    "X_train = X_train/255\n",
    "X_test = X_test/255"
   ]
  },
  {
   "cell_type": "code",
   "execution_count": null,
   "metadata": {},
   "outputs": [],
   "source": [
    "# Printing the 10th indexed image again with scaled values\n",
    "print(X_train[10])"
   ]
  },
  {
   "cell_type": "code",
   "execution_count": null,
   "metadata": {},
   "outputs": [],
   "source": [
    "# Building the Neural Network\n",
    "# Setting up the layers for the neural network\n",
    "model = keras.Sequential([\n",
    "                            keras.layers.Flatten(input_shape=(28,28)),\n",
    "                            keras.layers.Dense(50, activation='relu'),\n",
    "                            keras.layers.Dense(50, activation='relu')\n",
    "                            keras.layers.Dense(10, activation='sigmoid')\n",
    "])\n",
    "\n",
    "# If the images are RGB, use input_shape=(28,28,3)\n",
    "# The final layer has 10 neurons because the Y_label has 10 unique values"
   ]
  },
  {
   "cell_type": "code",
   "execution_count": null,
   "metadata": {},
   "outputs": [],
   "source": [
    "# Compiling the neural network\n",
    "model.compile(optimizer='adam',\n",
    "              loss='sparse_classical_crossentropy',\n",
    "              metrics=['accuracy'])"
   ]
  },
  {
   "cell_type": "code",
   "execution_count": null,
   "metadata": {},
   "outputs": [],
   "source": [
    "# Training the neural network\n",
    "model.fit(X_train, Y_train, epochs = 10)"
   ]
  },
  {
   "cell_type": "code",
   "execution_count": null,
   "metadata": {},
   "outputs": [],
   "source": [
    "# Training data accuracy is 98.9%\n",
    "# Accuracy on test data\n",
    "loss, accuracy = model.evaluate(X_test, Y_test)\n",
    "print(accuracy)"
   ]
  },
  {
   "cell_type": "code",
   "execution_count": null,
   "metadata": {},
   "outputs": [],
   "source": [
    "# Test data accuracy is 97%\n",
    "# Printing shape of test data\n",
    "print(X_test.shape)"
   ]
  },
  {
   "cell_type": "code",
   "execution_count": null,
   "metadata": {},
   "outputs": [],
   "source": [
    "# First data point in X_test data\n",
    "plt.imshow(X_test[0])\n",
    "plt.show()"
   ]
  },
  {
   "cell_type": "code",
   "execution_count": null,
   "metadata": {},
   "outputs": [],
   "source": [
    "# Pritning true label\n",
    "print(Y_test[0])"
   ]
  },
  {
   "cell_type": "code",
   "execution_count": null,
   "metadata": {},
   "outputs": [],
   "source": [
    "# Making prediction on test data\n",
    "Y_pred = model.predict(X_test)\n",
    "print(Y_pred.shape)"
   ]
  },
  {
   "cell_type": "code",
   "execution_count": null,
   "metadata": {},
   "outputs": [],
   "source": [
    "# Printing the first value in Y-pred\n",
    "print(Y_pred[0])"
   ]
  },
  {
   "cell_type": "code",
   "execution_count": null,
   "metadata": {},
   "outputs": [],
   "source": [
    "# We get 10 values because the keras model gives us the probability of each value. Higher the probability, more likely it is the label\n",
    "# model.predict() gives the prediction probability of each class for that data point."
   ]
  },
  {
   "cell_type": "code",
   "execution_count": null,
   "metadata": {},
   "outputs": [],
   "source": [
    "# Converting the prediction probability to the class label\n",
    "label_for_firstimg = np.argmax(Y_pred[0])\n",
    "print(label_for_firstimg)"
   ]
  },
  {
   "cell_type": "code",
   "execution_count": null,
   "metadata": {},
   "outputs": [],
   "source": [
    "# Converting the prediction probability to class label for all data points\n",
    "Y_pred_labels = [np.argmax(i) for i in Y_pred]\n",
    "print(Y_pred_labels)"
   ]
  },
  {
   "cell_type": "code",
   "execution_count": null,
   "metadata": {},
   "outputs": [],
   "source": [
    "# Y_test - true label, Y_pred_labels - predicted label\n",
    "# Confusion matrix\n",
    "Con_mat = confusion_matrix(Y_test, Y_pred_labels)\n",
    "print(Con_mat)"
   ]
  },
  {
   "cell_type": "code",
   "execution_count": null,
   "metadata": {},
   "outputs": [],
   "source": [
    "# Plotting a heatmap of confusion matrix\n",
    "plt.figure(figsize=(15,7))\n",
    "sns.heatmap(Con_mat, annot=True, fmt='d', cmap='Blues')\n",
    "plt.ylabel('True Labels')\n",
    "plt.xlabel('Predicted Labels')"
   ]
  },
  {
   "cell_type": "code",
   "execution_count": null,
   "metadata": {},
   "outputs": [],
   "source": [
    "# Building the predictive system\n",
    "# The input should be same as the data on which the ML model is trained upon\n",
    "input_image_path = '/Users/abhishekjain/Documents/GitHub/ML Projects/MNIST-Digit-Classification-with-Neural-Network/MNIST_digit.png'"
   ]
  },
  {
   "cell_type": "code",
   "execution_count": null,
   "metadata": {},
   "outputs": [],
   "source": [
    "# Reading the image and converting it to numpy array\n",
    "input_image = cv2.imread(input_image_path)\n",
    "\n",
    "type(input_image)"
   ]
  },
  {
   "cell_type": "code",
   "execution_count": null,
   "metadata": {},
   "outputs": [],
   "source": [
    "print(input_image)"
   ]
  },
  {
   "cell_type": "code",
   "execution_count": null,
   "metadata": {},
   "outputs": [],
   "source": [
    "cv2.imshow(input_image)"
   ]
  },
  {
   "cell_type": "code",
   "execution_count": null,
   "metadata": {},
   "outputs": [],
   "source": [
    "input_image.shape"
   ]
  },
  {
   "cell_type": "code",
   "execution_count": null,
   "metadata": {},
   "outputs": [],
   "source": [
    "# Converting the image to grayscale and resizing it\n",
    "gray_img = cv2.cvtColor(input_image, cv2.COLOR_RGB2GRAY)\n",
    "gray_img.shape"
   ]
  },
  {
   "cell_type": "code",
   "execution_count": null,
   "metadata": {},
   "outputs": [],
   "source": [
    "input_img_resize = cv2.resize(gray_img, (28,28))\n",
    "input_img_resize.shape"
   ]
  },
  {
   "cell_type": "code",
   "execution_count": null,
   "metadata": {},
   "outputs": [],
   "source": [
    "cv2.imshow(input_img_resize)"
   ]
  },
  {
   "cell_type": "code",
   "execution_count": null,
   "metadata": {},
   "outputs": [],
   "source": [
    "# Rescaling the image to get values between 0 and 1\n",
    "input_img_resize = input_img_resize/255"
   ]
  },
  {
   "cell_type": "code",
   "execution_count": null,
   "metadata": {},
   "outputs": [],
   "source": [
    "input_reshaped = np.reshape(input_img_resize, [1,28,28])\n",
    "\n",
    "# This is done to tell the machine learning model that we want to predict for one image only of the size 28,28. If it was a RGB image, it will become [1,28,28,3]"
   ]
  },
  {
   "cell_type": "code",
   "execution_count": null,
   "metadata": {},
   "outputs": [],
   "source": [
    "# Prediction\n",
    "input_pred = model.predict(input_reshaped)\n",
    "print(input_pred)"
   ]
  },
  {
   "cell_type": "code",
   "execution_count": null,
   "metadata": {},
   "outputs": [],
   "source": [
    "input_pred_label = np.argmax(input_pred)\n",
    "print(input_pred_label)"
   ]
  },
  {
   "cell_type": "code",
   "execution_count": null,
   "metadata": {},
   "outputs": [],
   "source": [
    "# Combining the code in one block to create the Predictive System\n",
    "input_image_path = input('Enter the path of the image to be predicted: ')\n",
    "input_image = cv2.imread(input_image_path)\n",
    "\n",
    "cv2.imshow(input_image)\n",
    "\n",
    "gray_img = cv2.cvtColor(input_image, cv2.COLOR_RGB2GRAY)\n",
    "\n",
    "input_img_resize = cv2.resize(gray_img, (28,28))\n",
    "\n",
    "input_img_resize = input_img_resize/255\n",
    "\n",
    "input_reshaped = np.reshape(input_img_resize, [1,28,28])\n",
    "\n",
    "input_pred = model.predict(input_reshaped)\n",
    "\n",
    "input_pred_label = np.argmax(input_pred)\n",
    "\n",
    "print('The handwritten digit is recognized as ', input_pred_label)"
   ]
  }
 ],
 "metadata": {
  "kernelspec": {
   "display_name": "Python 3",
   "language": "python",
   "name": "python3"
  },
  "language_info": {
   "codemirror_mode": {
    "name": "ipython",
    "version": 3
   },
   "file_extension": ".py",
   "mimetype": "text/x-python",
   "name": "python",
   "nbconvert_exporter": "python",
   "pygments_lexer": "ipython3",
   "version": "3.8.8"
  }
 },
 "nbformat": 4,
 "nbformat_minor": 2
}
